{
 "cells": [
  {
   "cell_type": "code",
   "execution_count": 1,
   "id": "3cea665f",
   "metadata": {},
   "outputs": [],
   "source": [
    "import pandas as pd\n",
    "import seaborn as sns\n",
    "from pyspark.sql import SparkSession\n",
    "from pyspark.sql import *\n",
    "from pyspark.sql import SQLContext\n",
    "from pyspark.sql.functions import *\n",
    "from pyspark.ml.feature import *\n",
    "from pyspark.ml.evaluation import MulticlassClassificationEvaluator, RegressionEvaluator\n",
    "from pyspark.ml.feature import QuantileDiscretizer\n",
    "from pyspark.ml.recommendation import ALS"
   ]
  },
  {
   "cell_type": "markdown",
   "id": "efaf51cd",
   "metadata": {},
   "source": [
    "# Initiating spark session"
   ]
  },
  {
   "cell_type": "code",
   "execution_count": 2,
   "id": "ae3172c2",
   "metadata": {},
   "outputs": [
    {
     "name": "stdout",
     "output_type": "stream",
     "text": [
      "23/04/02 05:11:13 WARN Utils: Your hostname, Shubhams-MacBook-Pro-3.local resolves to a loopback address: 127.0.0.1; using 11.41.226.1 instead (on interface en0)\n",
      "23/04/02 05:11:13 WARN Utils: Set SPARK_LOCAL_IP if you need to bind to another address\n"
     ]
    },
    {
     "name": "stderr",
     "output_type": "stream",
     "text": [
      "Setting default log level to \"WARN\".\n",
      "To adjust logging level use sc.setLogLevel(newLevel). For SparkR, use setLogLevel(newLevel).\n"
     ]
    },
    {
     "name": "stdout",
     "output_type": "stream",
     "text": [
      "23/04/02 05:11:13 WARN NativeCodeLoader: Unable to load native-hadoop library for your platform... using builtin-java classes where applicable\n"
     ]
    }
   ],
   "source": [
    "spark = SparkSession.builder.appName('Movie_Recommender').getOrCreate()"
   ]
  },
  {
   "cell_type": "markdown",
   "id": "186b3db8",
   "metadata": {},
   "source": [
    "# Reading movies_rating.csv"
   ]
  },
  {
   "cell_type": "code",
   "execution_count": 3,
   "id": "74965562",
   "metadata": {},
   "outputs": [],
   "source": [
    "movie_df = spark.read.csv('movie_ratings_df.csv', inferSchema = True, header = True)"
   ]
  },
  {
   "cell_type": "code",
   "execution_count": 4,
   "id": "8a66097b",
   "metadata": {},
   "outputs": [
    {
     "data": {
      "text/html": [
       "<div>\n",
       "<style scoped>\n",
       "    .dataframe tbody tr th:only-of-type {\n",
       "        vertical-align: middle;\n",
       "    }\n",
       "\n",
       "    .dataframe tbody tr th {\n",
       "        vertical-align: top;\n",
       "    }\n",
       "\n",
       "    .dataframe thead th {\n",
       "        text-align: right;\n",
       "    }\n",
       "</style>\n",
       "<table border=\"1\" class=\"dataframe\">\n",
       "  <thead>\n",
       "    <tr style=\"text-align: right;\">\n",
       "      <th></th>\n",
       "      <th>userId</th>\n",
       "      <th>title</th>\n",
       "      <th>rating</th>\n",
       "    </tr>\n",
       "  </thead>\n",
       "  <tbody>\n",
       "    <tr>\n",
       "      <th>0</th>\n",
       "      <td>196</td>\n",
       "      <td>Kolya (1996)</td>\n",
       "      <td>3</td>\n",
       "    </tr>\n",
       "    <tr>\n",
       "      <th>1</th>\n",
       "      <td>63</td>\n",
       "      <td>Kolya (1996)</td>\n",
       "      <td>3</td>\n",
       "    </tr>\n",
       "    <tr>\n",
       "      <th>2</th>\n",
       "      <td>226</td>\n",
       "      <td>Kolya (1996)</td>\n",
       "      <td>5</td>\n",
       "    </tr>\n",
       "    <tr>\n",
       "      <th>3</th>\n",
       "      <td>154</td>\n",
       "      <td>Kolya (1996)</td>\n",
       "      <td>3</td>\n",
       "    </tr>\n",
       "    <tr>\n",
       "      <th>4</th>\n",
       "      <td>306</td>\n",
       "      <td>Kolya (1996)</td>\n",
       "      <td>5</td>\n",
       "    </tr>\n",
       "  </tbody>\n",
       "</table>\n",
       "</div>"
      ],
      "text/plain": [
       "   userId         title  rating\n",
       "0     196  Kolya (1996)       3\n",
       "1      63  Kolya (1996)       3\n",
       "2     226  Kolya (1996)       5\n",
       "3     154  Kolya (1996)       3\n",
       "4     306  Kolya (1996)       5"
      ]
     },
     "execution_count": 4,
     "metadata": {},
     "output_type": "execute_result"
    }
   ],
   "source": [
    "movie_df.limit(5).toPandas()"
   ]
  },
  {
   "cell_type": "markdown",
   "id": "b80a8c52",
   "metadata": {},
   "source": [
    "# Dataset Description"
   ]
  },
  {
   "cell_type": "code",
   "execution_count": 5,
   "id": "1bd8f78e",
   "metadata": {},
   "outputs": [
    {
     "name": "stdout",
     "output_type": "stream",
     "text": [
      "root\n",
      " |-- userId: integer (nullable = true)\n",
      " |-- title: string (nullable = true)\n",
      " |-- rating: integer (nullable = true)\n",
      "\n"
     ]
    }
   ],
   "source": [
    "movie_df.printSchema()"
   ]
  },
  {
   "cell_type": "code",
   "execution_count": 6,
   "id": "c1af33ac",
   "metadata": {},
   "outputs": [
    {
     "name": "stderr",
     "output_type": "stream",
     "text": [
      "                                                                                \r"
     ]
    },
    {
     "name": "stdout",
     "output_type": "stream",
     "text": [
      "+-------+------------------+--------------------+------------------+\n",
      "|summary|            userId|               title|            rating|\n",
      "+-------+------------------+--------------------+------------------+\n",
      "|  count|            100000|              100000|            100000|\n",
      "|   mean|         462.48475|                null|           3.52986|\n",
      "| stddev|266.61442012750865|                null|1.1256735991443156|\n",
      "|    min|                 1|'Til There Was Yo...|                 1|\n",
      "|    max|               943|� k�ldum klaka (C...|                 5|\n",
      "+-------+------------------+--------------------+------------------+\n",
      "\n"
     ]
    }
   ],
   "source": [
    "movie_df.describe().show()"
   ]
  },
  {
   "cell_type": "code",
   "execution_count": 7,
   "id": "f62f1642",
   "metadata": {},
   "outputs": [
    {
     "name": "stdout",
     "output_type": "stream",
     "text": [
      "Number of different users: 943\n",
      "Number of different movies: 1664\n",
      "Ratings and count of movies:\n",
      "+------+-----+\n",
      "|rating|count|\n",
      "+------+-----+\n",
      "|     1| 6110|\n",
      "|     3|27145|\n",
      "|     5|21201|\n",
      "|     4|34174|\n",
      "|     2|11370|\n",
      "+------+-----+\n",
      "\n"
     ]
    }
   ],
   "source": [
    "print('Number of different users: {}'.format(movie_df.select('userId').distinct().count()))\n",
    "print('Number of different movies: {}'.format(movie_df.select('title').distinct().count()))\n",
    "print('Ratings and count of movies:')\n",
    "movie_df.groupBy('rating').count().show()"
   ]
  },
  {
   "cell_type": "markdown",
   "id": "0accd252",
   "metadata": {},
   "source": [
    "# Checking the count of distinct fields & sparsity in dataset"
   ]
  },
  {
   "cell_type": "code",
   "execution_count": 8,
   "id": "079b5fda",
   "metadata": {},
   "outputs": [
    {
     "name": "stdout",
     "output_type": "stream",
     "text": [
      "Movies dataframe is having  93.63% empty rating field.\n"
     ]
    }
   ],
   "source": [
    "all_ratings = movie_df.select('rating').count()\n",
    "\n",
    "distinct_movies = movie_df.select('title').distinct().count()\n",
    "distinct_users = movie_df.select('userId').distinct().count()\n",
    "\n",
    "complete = distinct_movies * distinct_users\n",
    "\n",
    "sparsity = (1.0 - (all_ratings * 1.0)/complete)*100\n",
    "\n",
    "print('Movies dataframe is having ','%.2f'%sparsity + '% empty rating field.')"
   ]
  },
  {
   "cell_type": "code",
   "execution_count": 9,
   "id": "329bdc9d",
   "metadata": {},
   "outputs": [
    {
     "name": "stderr",
     "output_type": "stream",
     "text": [
      "\r",
      "[Stage 36:>                                                         (0 + 1) / 1]\r",
      "\r",
      "                                                                                \r"
     ]
    },
    {
     "data": {
      "text/html": [
       "<div>\n",
       "<style scoped>\n",
       "    .dataframe tbody tr th:only-of-type {\n",
       "        vertical-align: middle;\n",
       "    }\n",
       "\n",
       "    .dataframe tbody tr th {\n",
       "        vertical-align: top;\n",
       "    }\n",
       "\n",
       "    .dataframe thead th {\n",
       "        text-align: right;\n",
       "    }\n",
       "</style>\n",
       "<table border=\"1\" class=\"dataframe\">\n",
       "  <thead>\n",
       "    <tr style=\"text-align: right;\">\n",
       "      <th></th>\n",
       "      <th>userId</th>\n",
       "      <th>title</th>\n",
       "      <th>rating</th>\n",
       "      <th>title_new</th>\n",
       "    </tr>\n",
       "  </thead>\n",
       "  <tbody>\n",
       "    <tr>\n",
       "      <th>0</th>\n",
       "      <td>196</td>\n",
       "      <td>Kolya (1996)</td>\n",
       "      <td>3</td>\n",
       "      <td>287.0</td>\n",
       "    </tr>\n",
       "    <tr>\n",
       "      <th>1</th>\n",
       "      <td>63</td>\n",
       "      <td>Kolya (1996)</td>\n",
       "      <td>3</td>\n",
       "      <td>287.0</td>\n",
       "    </tr>\n",
       "    <tr>\n",
       "      <th>2</th>\n",
       "      <td>226</td>\n",
       "      <td>Kolya (1996)</td>\n",
       "      <td>5</td>\n",
       "      <td>287.0</td>\n",
       "    </tr>\n",
       "  </tbody>\n",
       "</table>\n",
       "</div>"
      ],
      "text/plain": [
       "   userId         title  rating  title_new\n",
       "0     196  Kolya (1996)       3      287.0\n",
       "1      63  Kolya (1996)       3      287.0\n",
       "2     226  Kolya (1996)       5      287.0"
      ]
     },
     "execution_count": 9,
     "metadata": {},
     "output_type": "execute_result"
    }
   ],
   "source": [
    "stringIndex = StringIndexer(inputCol = 'title', outputCol= 'title_new')\n",
    "model = stringIndex.fit(movie_df)\n",
    "indexed = model.transform(movie_df)\n",
    "indexed.limit(3).toPandas()"
   ]
  },
  {
   "cell_type": "markdown",
   "id": "28000436",
   "metadata": {},
   "source": [
    "# Graphical visualization of the dataset"
   ]
  },
  {
   "cell_type": "code",
   "execution_count": 10,
   "id": "5e1ce0d8",
   "metadata": {},
   "outputs": [
    {
     "data": {
      "text/plain": [
       "<seaborn.axisgrid.FacetGrid at 0x107ed1790>"
      ]
     },
     "execution_count": 10,
     "metadata": {},
     "output_type": "execute_result"
    },
    {
     "data": {
      "image/png": "[encoded data removed]",
      "text/plain": [
       "<Figure size 500x500 with 1 Axes>"
      ]
     },
     "metadata": {},
     "output_type": "display_data"
    }
   ],
   "source": [
    "rating_pandas = indexed.toPandas()\n",
    "sns.lmplot(x='userId', y='title_new', data = rating_pandas, fit_reg=False)"
   ]
  },
  {
   "cell_type": "code",
   "execution_count": 11,
   "id": "ab94a06a",
   "metadata": {},
   "outputs": [
    {
     "data": {
      "text/plain": [
       "<Axes: xlabel='userId', ylabel='rating'>"
      ]
     },
     "execution_count": 11,
     "metadata": {},
     "output_type": "execute_result"
    },
    {
     "data": {
      "image/png": "[encoded data removed]",
      "text/plain": [
       "<Figure size 500x500 with 1 Axes>"
      ]
     },
     "metadata": {},
     "output_type": "display_data"
    }
   ],
   "source": [
    "\n",
    "sns.lmplot(x = 'userId', y = 'rating', data = rating_pandas, fit_reg = False)\n",
    "sns.violinplot([rating_pandas.rating])"
   ]
  },
  {
   "cell_type": "code",
   "execution_count": 12,
   "id": "2af08078",
   "metadata": {},
   "outputs": [
    {
     "data": {
      "text/plain": [
       "<Axes: xlabel='rating', ylabel='count'>"
      ]
     },
     "execution_count": 12,
     "metadata": {},
     "output_type": "execute_result"
    },
    {
     "data": {
      "image/png": "[encoded data removed]",
      "text/plain": [
       "<Figure size 640x480 with 1 Axes>"
      ]
     },
     "metadata": {},
     "output_type": "display_data"
    }
   ],
   "source": [
    "sns.countplot(x = 'rating', data = rating_pandas)"
   ]
  },
  {
   "cell_type": "markdown",
   "id": "8a1403f0",
   "metadata": {},
   "source": [
    "# Implementing ALS model for movie recommendation\n",
    "\n",
    "The alternating least squares (ALS) algorithm provides collaborative filtering between users and products to find products that the customers might like, based on their previous ratings.\n",
    "\n",
    "In this case, the ALS algorithm will create a matrix of all users versus all movies. Most cells in the matrix will be empty. An empty cell means the user hasn't reviewed the movie yet. The ALS algorithm will fill in the probable (predicted) ratings, based on similarities between user ratings. The algorithm uses the least squares computation to minimize the estimation errors, and alternates between solving for movie factors and solving for user factors."
   ]
  },
  {
   "cell_type": "code",
   "execution_count": 13,
   "id": "97c73dc3",
   "metadata": {},
   "outputs": [
    {
     "name": "stderr",
     "output_type": "stream",
     "text": [
      "\r",
      "[Stage 41:>                                                         (0 + 1) / 1]\r",
      "\r",
      "                                                                                \r"
     ]
    },
    {
     "name": "stdout",
     "output_type": "stream",
     "text": [
      "23/04/02 05:11:37 WARN InstanceBuilder$NativeBLAS: Failed to load implementation from:dev.ludovic.netlib.blas.JNIBLAS\n",
      "23/04/02 05:11:37 WARN InstanceBuilder$NativeBLAS: Failed to load implementation from:dev.ludovic.netlib.blas.ForeignLinkerBLAS\n"
     ]
    },
    {
     "name": "stderr",
     "output_type": "stream",
     "text": [
      "                                                                                \r"
     ]
    },
    {
     "data": {
      "text/html": [
       "<div>\n",
       "<style scoped>\n",
       "    .dataframe tbody tr th:only-of-type {\n",
       "        vertical-align: middle;\n",
       "    }\n",
       "\n",
       "    .dataframe tbody tr th {\n",
       "        vertical-align: top;\n",
       "    }\n",
       "\n",
       "    .dataframe thead th {\n",
       "        text-align: right;\n",
       "    }\n",
       "</style>\n",
       "<table border=\"1\" class=\"dataframe\">\n",
       "  <thead>\n",
       "    <tr style=\"text-align: right;\">\n",
       "      <th></th>\n",
       "      <th>userId</th>\n",
       "      <th>title</th>\n",
       "      <th>rating</th>\n",
       "      <th>title_new</th>\n",
       "      <th>prediction</th>\n",
       "    </tr>\n",
       "  </thead>\n",
       "  <tbody>\n",
       "    <tr>\n",
       "      <th>0</th>\n",
       "      <td>148</td>\n",
       "      <td>Amadeus (1984)</td>\n",
       "      <td>1</td>\n",
       "      <td>50.0</td>\n",
       "      <td>3.594107</td>\n",
       "    </tr>\n",
       "    <tr>\n",
       "      <th>1</th>\n",
       "      <td>148</td>\n",
       "      <td>Around the World in 80 Days (1956)</td>\n",
       "      <td>4</td>\n",
       "      <td>540.0</td>\n",
       "      <td>1.936822</td>\n",
       "    </tr>\n",
       "    <tr>\n",
       "      <th>2</th>\n",
       "      <td>148</td>\n",
       "      <td>Being There (1979)</td>\n",
       "      <td>5</td>\n",
       "      <td>290.0</td>\n",
       "      <td>5.156811</td>\n",
       "    </tr>\n",
       "    <tr>\n",
       "      <th>3</th>\n",
       "      <td>148</td>\n",
       "      <td>Deer Hunter, The (1978)</td>\n",
       "      <td>1</td>\n",
       "      <td>280.0</td>\n",
       "      <td>3.472638</td>\n",
       "    </tr>\n",
       "    <tr>\n",
       "      <th>4</th>\n",
       "      <td>148</td>\n",
       "      <td>Empire Strikes Back, The (1980)</td>\n",
       "      <td>5</td>\n",
       "      <td>18.0</td>\n",
       "      <td>4.104265</td>\n",
       "    </tr>\n",
       "  </tbody>\n",
       "</table>\n",
       "</div>"
      ],
      "text/plain": [
       "   userId                               title  rating  title_new  prediction\n",
       "0     148                      Amadeus (1984)       1       50.0    3.594107\n",
       "1     148  Around the World in 80 Days (1956)       4      540.0    1.936822\n",
       "2     148                  Being There (1979)       5      290.0    5.156811\n",
       "3     148             Deer Hunter, The (1978)       1      280.0    3.472638\n",
       "4     148     Empire Strikes Back, The (1980)       5       18.0    4.104265"
      ]
     },
     "execution_count": 13,
     "metadata": {},
     "output_type": "execute_result"
    }
   ],
   "source": [
    "train, test = indexed.randomSplit([0.7,0.3])\n",
    "als_recommender = ALS(maxIter = 10, regParam = 0.01, userCol = 'userId',\n",
    "                  itemCol = 'title_new',\n",
    "                  ratingCol='rating',\n",
    "                  nonnegative=True,\n",
    "                  coldStartStrategy='drop')\n",
    "\n",
    "recommender_model = als_recommender.fit(train)\n",
    "\n",
    "predicted_rating = recommender_model.transform(test)\n",
    "predicted_rating.limit(5).toPandas()"
   ]
  },
  {
   "cell_type": "code",
   "execution_count": 14,
   "id": "e5efcb05",
   "metadata": {},
   "outputs": [
    {
     "name": "stdout",
     "output_type": "stream",
     "text": [
      "Root mean square error :1.0437906892091013\n"
     ]
    }
   ],
   "source": [
    "evaluator = RegressionEvaluator(metricName = 'rmse', predictionCol = 'prediction', labelCol = 'rating')\n",
    "rmse = evaluator.evaluate(predicted_rating)\n",
    "print(f'Root mean square error :{rmse}')"
   ]
  },
  {
   "cell_type": "markdown",
   "id": "4db514a3",
   "metadata": {},
   "source": [
    "# Implementing function to retrive movies for particular user"
   ]
  },
  {
   "cell_type": "code",
   "execution_count": 15,
   "id": "a5c5d253",
   "metadata": {},
   "outputs": [],
   "source": [
    "unique_movie = indexed.select('title_new').distinct()\n",
    "\n",
    "def top_movies(user_id, top_movies):\n",
    "    \n",
    "    uniq = unique_movie.alias('uniq')\n",
    "#     DF for already watched movies\n",
    "    watched_movies = indexed.filter(indexed['userId'] == user_id).select('title_new')\n",
    "    wm = watched_movies.alias('wm')\n",
    "    \n",
    "    total_movies = uniq.join(wm, uniq.title_new == wm.title_new, how='left')\n",
    "    \n",
    "    remaining_movies = total_movies.where(col('wm.title_new').isNull()).select(uniq.title_new).distinct()\n",
    "    \n",
    "    remaining_movies = remaining_movies.withColumn(\"userId\", lit(int(user_id)))\n",
    "    \n",
    "    recommendation = recommender_model.transform(remaining_movies).orderBy('prediction',\n",
    "                                                                           ascending = False).limit(top_movies)\n",
    "    \n",
    "    movie_title = IndexToString(inputCol='title_new', outputCol='title', labels=model.labels)\n",
    "    \n",
    "\n",
    "    final_recommendation = movie_title.transform(recommendation)\n",
    "    \n",
    "    return final_recommendation.show(top_movies,False)\n",
    "    "
   ]
  },
  {
   "cell_type": "markdown",
   "id": "85918ba4",
   "metadata": {},
   "source": [
    "# Result"
   ]
  },
  {
   "cell_type": "code",
   "execution_count": 16,
   "id": "fe78b069",
   "metadata": {},
   "outputs": [
    {
     "name": "stdout",
     "output_type": "stream",
     "text": [
      "Movie Recommendation System\n",
      "-------------------------------------\n",
      "Enter the user ID  :3\n",
      "How many movies to recommend :5\n",
      "+---------+------+----------+-------------------------------------------------------------------+\n",
      "|title_new|userId|prediction|title                                                              |\n",
      "+---------+------+----------+-------------------------------------------------------------------+\n",
      "|577.0    |3     |7.9505167 |Nosferatu (Nosferatu, eine Symphonie des Grauens) (1922)           |\n",
      "|1114.0   |3     |6.5852094 |Bitter Moon (1992)                                                 |\n",
      "|1140.0   |3     |6.5481625 |White Balloon, The (1995)                                          |\n",
      "|877.0    |3     |6.5101047 |Cemetery Man (Dellamorte Dellamore) (1994)                         |\n",
      "|768.0    |3     |6.401641  |Englishman Who Went Up a Hill, But Came Down a Mountain, The (1995)|\n",
      "+---------+------+----------+-------------------------------------------------------------------+\n",
      "\n"
     ]
    }
   ],
   "source": [
    "print('Movie Recommendation System')\n",
    "print('-------------------------------------')\n",
    "user_id = int(input('Enter the user ID  :'))\n",
    "num_movie =int(input('How many movies to recommend :'))\n",
    "top_movies(user_id,num_movie)"
   ]
  },
  {
   "cell_type": "code",
   "execution_count": null,
   "id": "a4e36d3e",
   "metadata": {},
   "outputs": [],
   "source": []
  }
 ],
 "metadata": {
  "kernelspec": {
   "display_name": "Python 3 (ipykernel)",
   "language": "python",
   "name": "python3"
  },
  "language_info": {
   "codemirror_mode": {
    "name": "ipython",
    "version": 3
   },
   "file_extension": ".py",
   "mimetype": "text/x-python",
   "name": "python",
   "nbconvert_exporter": "python",
   "pygments_lexer": "ipython3",
   "version": "3.11.2"
  }
 },
 "nbformat": 4,
 "nbformat_minor": 5
}
